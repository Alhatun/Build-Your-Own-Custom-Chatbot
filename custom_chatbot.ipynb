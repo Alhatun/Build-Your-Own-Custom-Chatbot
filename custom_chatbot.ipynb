{
 "cells": [
  {
   "cell_type": "markdown",
   "id": "970f074e-3c66-44e6-b753-d7c2af32846b",
   "metadata": {},
   "source": [
    "### Dataset and Scenario Explanation"
   ]
  },
  {
   "cell_type": "markdown",
   "id": "6fb87271-0f57-47dd-8aae-8ba31fa07b2a",
   "metadata": {},
   "source": [
    "##### Dataset Selection:\n",
    "I chose the nyc_food_scrap_drop_off_sites.csv dataset, which contains detailed information about NYC food scrap drop-off locations, including addresses, operating hours, and specific notes.\n",
    "\n",
    "##### Why This Dataset?\n",
    "It provides specific and localized information not included in the model's original training data. While OpenAI models can give general information about recycling, they lack detailed, up-to-date knowledge of NYC-specific locations, operating hours, and restrictions for food scrap drop-off. Incorporating this dataset enables the chatbot to provide accurate responses, making it highly useful for NYC residents."
   ]
  },
  {
   "cell_type": "code",
   "execution_count": 56,
   "id": "9531dd9c-b2a5-436d-bb62-88ef9c42ae01",
   "metadata": {},
   "outputs": [],
   "source": [
    "import pandas as pd\n",
    "from IPython.display import display \n",
    "# import openai\n",
    "import openai\n",
    "from sklearn.feature_extraction.text import TfidfVectorizer\n",
    "from sklearn.metrics.pairwise import cosine_similarity"
   ]
  },
  {
   "cell_type": "markdown",
   "id": "54720461-72f9-4b2a-bd13-df7c626f1528",
   "metadata": {},
   "source": [
    "#### Preprocess the dataset "
   ]
  },
  {
   "cell_type": "code",
   "execution_count": 16,
   "id": "dfe700a0-5541-4c6d-a0af-57580f083721",
   "metadata": {},
   "outputs": [],
   "source": [
    "# Load the dataset\n",
    "file_path = 'Food_Scrap_Drop-Off_Locations_in_NYC.csv'  # Update with the correct file path\n",
    "data = pd.read_csv(file_path)\n",
    "\n",
    "# Combine relevant columns into a single 'text' column\n",
    "data['text'] = (\n",
    "    data['Borough'] + \", \" +\n",
    "    data['NTAName'] + \": Drop-off site at \" +\n",
    "    data['SiteName'] + \" (\" +\n",
    "    data['SiteAddr'] + \"). Open \" +\n",
    "    data['Day_Hours'] + \". Note: \" +\n",
    "    data['Notes'].fillna(\"No additional notes.\")\n",
    ")\n",
    "\n",
    "# Remove rows where 'text' is empty or null\n",
    "data = data.dropna(subset=['text'])\n",
    "data = data[data['text'].str.strip() != \"\"]  # Remove rows with only whitespace\n",
    "\n",
    "# Keep only the 'text' column\n",
    "data = data[['text']]\n",
    "\n",
    "# Save the processed dataset (optional)\n",
    "processed_file_path = 'Processed_food_scrap_sites.csv'\n",
    "data.to_csv(processed_file_path, index=False)"
   ]
  },
  {
   "cell_type": "code",
   "execution_count": 26,
   "id": "53d4e585-5217-46aa-a563-29747ba0fb5d",
   "metadata": {},
   "outputs": [
    {
     "data": {
      "text/html": [
       "<div>\n",
       "<style scoped>\n",
       "    .dataframe tbody tr th:only-of-type {\n",
       "        vertical-align: middle;\n",
       "    }\n",
       "\n",
       "    .dataframe tbody tr th {\n",
       "        vertical-align: top;\n",
       "    }\n",
       "\n",
       "    .dataframe thead th {\n",
       "        text-align: right;\n",
       "    }\n",
       "</style>\n",
       "<table border=\"1\" class=\"dataframe\">\n",
       "  <thead>\n",
       "    <tr style=\"text-align: right;\">\n",
       "      <th></th>\n",
       "      <th>text</th>\n",
       "    </tr>\n",
       "  </thead>\n",
       "  <tbody>\n",
       "    <tr>\n",
       "      <th>0</th>\n",
       "      <td>Brooklyn, Bay Ridge: Drop-off site at 4th Aven...</td>\n",
       "    </tr>\n",
       "    <tr>\n",
       "      <th>1</th>\n",
       "      <td>Manhattan, East Midtown-Turtle Bay: Drop-off s...</td>\n",
       "    </tr>\n",
       "    <tr>\n",
       "      <th>2</th>\n",
       "      <td>Manhattan, Hell's Kitchen: Drop-off site at Hu...</td>\n",
       "    </tr>\n",
       "    <tr>\n",
       "      <th>3</th>\n",
       "      <td>Manhattan, East Midtown-Turtle Bay: Drop-off s...</td>\n",
       "    </tr>\n",
       "    <tr>\n",
       "      <th>4</th>\n",
       "      <td>Manhattan, Tribeca-Civic Center: Drop-off site...</td>\n",
       "    </tr>\n",
       "    <tr>\n",
       "      <th>5</th>\n",
       "      <td>Staten Island, St. George-New Brighton: Drop-o...</td>\n",
       "    </tr>\n",
       "    <tr>\n",
       "      <th>6</th>\n",
       "      <td>Manhattan, Manhattanville-West Harlem: Drop-of...</td>\n",
       "    </tr>\n",
       "    <tr>\n",
       "      <th>7</th>\n",
       "      <td>Brooklyn, Crown Heights (North): Drop-off site...</td>\n",
       "    </tr>\n",
       "    <tr>\n",
       "      <th>8</th>\n",
       "      <td>Brooklyn, Prospect Park: Drop-off site at Nurt...</td>\n",
       "    </tr>\n",
       "    <tr>\n",
       "      <th>9</th>\n",
       "      <td>Brooklyn, Bushwick (West): Drop-off site at BK...</td>\n",
       "    </tr>\n",
       "  </tbody>\n",
       "</table>\n",
       "</div>"
      ],
      "text/plain": [
       "                                                text\n",
       "0  Brooklyn, Bay Ridge: Drop-off site at 4th Aven...\n",
       "1  Manhattan, East Midtown-Turtle Bay: Drop-off s...\n",
       "2  Manhattan, Hell's Kitchen: Drop-off site at Hu...\n",
       "3  Manhattan, East Midtown-Turtle Bay: Drop-off s...\n",
       "4  Manhattan, Tribeca-Civic Center: Drop-off site...\n",
       "5  Staten Island, St. George-New Brighton: Drop-o...\n",
       "6  Manhattan, Manhattanville-West Harlem: Drop-of...\n",
       "7  Brooklyn, Crown Heights (North): Drop-off site...\n",
       "8  Brooklyn, Prospect Park: Drop-off site at Nurt...\n",
       "9  Brooklyn, Bushwick (West): Drop-off site at BK..."
      ]
     },
     "metadata": {},
     "output_type": "display_data"
    }
   ],
   "source": [
    "display(data.head(10))  # Show the first 10 rows as a clean table"
   ]
  },
  {
   "cell_type": "markdown",
   "id": "7e7d691a-a59c-4fc5-b314-53296a65acf7",
   "metadata": {},
   "source": [
    "#### 2. Load the Processed Dataset"
   ]
  },
  {
   "cell_type": "code",
   "execution_count": 76,
   "id": "9ac74fee-ad9b-4a16-b87f-1392318189f6",
   "metadata": {},
   "outputs": [],
   "source": [
    "processed_file_path = 'Processed_food_scrap_sites.csv'\n",
    "data = pd.read_csv(processed_file_path)\n",
    "# Convert the 'text' column into a list for querying\n",
    "knowledge_base = data['text'].tolist()[:25]"
   ]
  },
  {
   "cell_type": "markdown",
   "id": "eb13d332-ebf3-46c0-a83f-29016e0de9b5",
   "metadata": {},
   "source": [
    "#### 3. Set Up the OpenAI API"
   ]
  },
  {
   "cell_type": "code",
   "execution_count": 84,
   "id": "ac8c776d-b599-4025-b261-977a9d24c31c",
   "metadata": {},
   "outputs": [],
   "source": [
    "openai.api_key =\"OPENAI_API_KE\""
   ]
  },
  {
   "cell_type": "markdown",
   "id": "5cbfc276-3cdb-4ff8-8b16-1ac12e8395f0",
   "metadata": {},
   "source": [
    "#### 4. Create the Custom Query Function"
   ]
  },
  {
   "cell_type": "code",
   "execution_count": 86,
   "id": "611c2885-9018-42e9-9073-1e4d5fdba731",
   "metadata": {},
   "outputs": [],
   "source": [
    "def custom_chatbot(query, knowledge_base):\n",
    "    # Combine the dataset into a single context\n",
    "    context = \"\\n\".join(knowledge_base)\n",
    "\n",
    "    # Define the chatbot's message\n",
    "    messages = [\n",
    "        {\"role\": \"system\", \"content\": \"You are a helpful assistant knowledgeable about NYC food scrap drop-off sites.\"},\n",
    "        {\"role\": \"user\", \"content\": f\"Using the following information:\\n\\n{context}\\n\\nQuestion: {query}\"}\n",
    "    ]\n",
    "\n",
    "    # Call the OpenAI API with reduced max_tokens\n",
    "    response = openai.ChatCompletion.create(\n",
    "        model=\"gpt-4o-mini\",  # Ensure this matches your available model\n",
    "        messages=messages,\n",
    "        max_tokens=50,  # Reduced token usage\n",
    "        temperature=0.7\n",
    "    )\n",
    "\n",
    "    # Return the assistant's response\n",
    "    return response[\"choices\"][0][\"message\"][\"content\"].strip()"
   ]
  },
  {
   "cell_type": "code",
   "execution_count": 88,
   "id": "e8310f39-0481-4a0e-85de-dd7655ad21bb",
   "metadata": {},
   "outputs": [],
   "source": [
    "# Basic chatbot function without using the dataset\n",
    "def basic_chatbot(query):\n",
    "    messages = [\n",
    "        {\"role\": \"system\", \"content\": \"You are a helpful assistant.\"},  # No dataset context\n",
    "        {\"role\": \"user\", \"content\": query}\n",
    "    ]\n",
    "    \n",
    "    response = openai.ChatCompletion.create(\n",
    "        model=\"gpt-4o-mini\",  # Ensure this matches your available model\n",
    "        messages=messages,\n",
    "        max_tokens=50,  # Keep token usage low\n",
    "        temperature=0.7\n",
    "    )\n",
    "    \n",
    "    return response[\"choices\"][0][\"message\"][\"content\"].strip()"
   ]
  },
  {
   "cell_type": "markdown",
   "id": "bc0d8c40-6fcd-4c64-82ba-092c87b8df74",
   "metadata": {},
   "source": [
    "#### 5. Write Questions to Demonstrate Custom Performance"
   ]
  },
  {
   "cell_type": "code",
   "execution_count": 90,
   "id": "30daf986-f850-4c21-b0e1-3a46635f10b7",
   "metadata": {},
   "outputs": [],
   "source": [
    "question_1 = \"What are the operating hours for food scrap drop-off sites in Manhattan?\"\n",
    "custom_response_1 = custom_chatbot(question_1, knowledge_base)\n",
    "basic_response_1 = basic_chatbot(question_1)"
   ]
  },
  {
   "cell_type": "code",
   "execution_count": 92,
   "id": "ac39a94f-121f-44a3-b941-8f29ee81495f",
   "metadata": {},
   "outputs": [
    {
     "name": "stdout",
     "output_type": "stream",
     "text": [
      "Question 1: What are the operating hours for food scrap drop-off sites in Manhattan?\n"
     ]
    }
   ],
   "source": [
    "print(f\"Question 1: {question_1}\")"
   ]
  },
  {
   "cell_type": "code",
   "execution_count": 94,
   "id": "d1dc17f3-f451-4318-9b7d-071910a1fecf",
   "metadata": {},
   "outputs": [
    {
     "name": "stdout",
     "output_type": "stream",
     "text": [
      "Custom Answer: Here are the operating hours for food scrap drop-off sites in Manhattan:\n",
      "\n",
      "1. **East Midtown-Turtle Bay** (Dag Hammarskjold Plaza Greenmarket)\n",
      "   - **Open:** Wednesday\n",
      "   - **Hours:** 8:00 AM\n"
     ]
    }
   ],
   "source": [
    "print(f\"Custom Answer: {custom_response_1}\")"
   ]
  },
  {
   "cell_type": "code",
   "execution_count": 96,
   "id": "0fae82ea-cd45-44b5-9f70-747bbe30dfc3",
   "metadata": {},
   "outputs": [
    {
     "name": "stdout",
     "output_type": "stream",
     "text": [
      "Basic Answer: As of my last update, food scrap drop-off sites in Manhattan typically operate during specific hours, often on designated days of the week. However, the exact hours can vary by location and may change over time.\n",
      "\n",
      "To get the most accurate and up-to\n",
      "\n"
     ]
    }
   ],
   "source": [
    "print(f\"Basic Answer: {basic_response_1}\\n\")"
   ]
  },
  {
   "cell_type": "code",
   "execution_count": 98,
   "id": "1d58ac36-b756-437e-abf6-898d326ec774",
   "metadata": {},
   "outputs": [],
   "source": [
    "# Test Question 2\n",
    "question_2 = \"Are there any food scrap drop-off sites open on Sunday in Brooklyn?\"\n",
    "custom_response_2 = custom_chatbot(question_2, knowledge_base)\n",
    "basic_response_2 = basic_chatbot(question_2)"
   ]
  },
  {
   "cell_type": "code",
   "execution_count": 100,
   "id": "1edd5563-9c63-46c2-a66b-7bab0e7e88d4",
   "metadata": {},
   "outputs": [
    {
     "name": "stdout",
     "output_type": "stream",
     "text": [
      "Question 2: Are there any food scrap drop-off sites open on Sunday in Brooklyn?\n"
     ]
    }
   ],
   "source": [
    "print(f\"Question 2: {question_2}\")"
   ]
  },
  {
   "cell_type": "code",
   "execution_count": 102,
   "id": "87fb04bd-fb88-4076-858d-0fd0d3e51de4",
   "metadata": {},
   "outputs": [
    {
     "name": "stdout",
     "output_type": "stream",
     "text": [
      "Custom Answer: Yes, there are food scrap drop-off sites open on Sunday in Brooklyn:\n",
      "\n",
      "1. **Crown Heights (North)**: 1100 Bergen Street Community Garden (1107 Bergen Street, Brooklyn, NY 11216). Open from 10:\n"
     ]
    }
   ],
   "source": [
    "print(f\"Custom Answer: {custom_response_2}\")"
   ]
  },
  {
   "cell_type": "code",
   "execution_count": 104,
   "id": "a518655c-ad34-4faf-83ee-e926182f2f3a",
   "metadata": {},
   "outputs": [
    {
     "name": "stdout",
     "output_type": "stream",
     "text": [
      "Basic Answer: Yes, Brooklyn has several food scrap drop-off sites that are typically open on Sundays. However, the specific locations and hours can vary. As of my last update, you might want to check the New York City Department of Sanitation's website or the\n",
      "\n"
     ]
    }
   ],
   "source": [
    "print(f\"Basic Answer: {basic_response_2}\\n\")"
   ]
  }
 ],
 "metadata": {
  "kernelspec": {
   "display_name": "Python [conda env:base] *",
   "language": "python",
   "name": "conda-base-py"
  },
  "language_info": {
   "codemirror_mode": {
    "name": "ipython",
    "version": 3
   },
   "file_extension": ".py",
   "mimetype": "text/x-python",
   "name": "python",
   "nbconvert_exporter": "python",
   "pygments_lexer": "ipython3",
   "version": "3.12.7"
  }
 },
 "nbformat": 4,
 "nbformat_minor": 5
}
